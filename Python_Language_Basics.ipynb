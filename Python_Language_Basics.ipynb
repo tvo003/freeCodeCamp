{
  "nbformat": 4,
  "nbformat_minor": 0,
  "metadata": {
    "colab": {
      "name": "Python Language Basics.ipynb",
      "provenance": [],
      "authorship_tag": "ABX9TyNpFoNI/+tB+hk5QgNUnFX0",
      "include_colab_link": true
    },
    "kernelspec": {
      "name": "python3",
      "display_name": "Python 3"
    },
    "language_info": {
      "name": "python"
    }
  },
  "cells": [
    {
      "cell_type": "markdown",
      "metadata": {
        "id": "view-in-github",
        "colab_type": "text"
      },
      "source": [
        "<a href=\"https://colab.research.google.com/github/tvo003/freeCodeCamp/blob/main/Python_Language_Basics.ipynb\" target=\"_parent\"><img src=\"https://colab.research.google.com/assets/colab-badge.svg\" alt=\"Open In Colab\"/></a>"
      ]
    },
    {
      "cell_type": "code",
      "execution_count": null,
      "metadata": {
        "id": "0mlVux1bKw4W"
      },
      "outputs": [],
      "source": [
        "# boolean\n",
        "is_game_over = False\n",
        "print(is_game_over)\n",
        "is_game_over = True\n",
        "print(is_game_over)\n",
        "is_game_over = 5 > 6\n",
        "print(is_game_over)\n",
        "\n",
        "is_player_at_halfway_point = False\n",
        "print(is_player_at_halfway_point)\n",
        "is_player_at_halfway_point = True\n",
        "print(is_player_at_halfway_point)\n",
        "\n",
        "beat_game = False\n",
        "print(beat_game)\n",
        "beat_game = True\n",
        "print(beat_game)\n",
        "\n",
        "# 01/26 examples\n",
        "month_of_january = True\n",
        "print(month_of_january)\n",
        "month_of_january = False\n",
        "print(month_of_january)"
      ]
    },
    {
      "cell_type": "code",
      "source": [
        "# int\n",
        "# float\n",
        "num_lives = 5  \n",
        "print(num_lives)\n",
        "percent_health = 0.5 \n",
        "print(percent_health)\n",
        "\n",
        "extra_lives = 1\n",
        "print(extra_lives)\n",
        "lost_a_life = -1\n",
        "print(lost_a_life)\n",
        "\n",
        "donate_lives_to_other_players = -1\n",
        "print(donate_lives_to_other_players)\n",
        "received_lives_from_other_players = 1\n",
        "print(received_lives_from_other_players)\n",
        "\n",
        "# 01/26 examples\n",
        "fever_temperature = 103\n",
        "print(fever_temperature)\n",
        "healthy_temperature = 95.2\n",
        "print(healthy_temperature)"
      ],
      "metadata": {
        "id": "V_ZoWTVHMMvK"
      },
      "execution_count": null,
      "outputs": []
    },
    {
      "cell_type": "code",
      "source": [
        "# strings\n",
        "player_name = \"Tuan\"\n",
        "print(player_name)\n",
        "player_name = 'Kaison'\n",
        "print(player_name)\n",
        "\n",
        "new_player_name = \"Enter Name\"\n",
        "print(new_player_name)\n",
        "player_quits_game_name = 'Enter Name'\n",
        "print(player_quits_game_name)\n",
        "\n",
        "name_of_player_joining_your_team = \"Bob\"\n",
        "print(name_of_player_joining_your_team)\n",
        "name_of_player_leaving_your_team = 'Jason'\n",
        "print(name_of_player_leaving_your_team)\n",
        "\n",
        "#01/26 examples\n",
        "near_by_park = \"Overlook\"\n",
        "print(near_by_park)\n",
        "school_district_name = \"Tumwater\"\n",
        "print(school_district_name)\n",
        "favorite_movie = \"Sleepless in Seattle\"\n",
        "print(favorite_movie)"
      ],
      "metadata": {
        "id": "MJ8vYuIDNL3b"
      },
      "execution_count": null,
      "outputs": []
    },
    {
      "cell_type": "code",
      "source": [
        "# type\n",
        "print(type(is_game_over)) \n",
        "print(type(num_lives))\n",
        "print(type(percent_health))\n",
        "print(type('player_name'))\n"
      ],
      "metadata": {
        "id": "u8JabNapN24x"
      },
      "execution_count": null,
      "outputs": []
    },
    {
      "cell_type": "code",
      "source": [
        "num_lives = 5\n",
        "# num_lives = \"5\"\n",
        "# you can change any types to a string by using str(exp_exp)\n",
        "str_num_lives = str(num_lives) \n",
        "print(type(num_lives))\n",
        "print(type(str_num_lives))\n",
        "\n",
        "# Feb 02\n",
        "num_cats = 4\n",
        "str_num_cats = str(num_cats)\n",
        "print(type(num_cats))\n",
        "print(type(str_num_cats))\n",
        "\n",
        "num_kids = 6\n",
        "str_num_kids = str(num_kids)\n",
        "print(type(num_kids))\n",
        "print(type(str_num_kids))"
      ],
      "metadata": {
        "id": "28VLXsmFTgeY"
      },
      "execution_count": null,
      "outputs": []
    },
    {
      "cell_type": "code",
      "source": [
        "# coverting to a boolean(1). \n",
        "# 0 will always give you a false\n",
        "# most of everything else will provide true\n",
        "print(bool(0))\n",
        "print(bool(1))"
      ],
      "metadata": {
        "id": "Iu_eDh6-VRvb"
      },
      "execution_count": null,
      "outputs": []
    },
    {
      "cell_type": "code",
      "source": [
        "# coverting to a boolean(2). \n",
        "# 0 will always give you a false\n",
        "# most of everything else will provide true\n",
        "print(bool(0))\n",
        "print(bool(1))"
      ],
      "metadata": {
        "id": "CxCG7iraWAHC"
      },
      "execution_count": null,
      "outputs": []
    },
    {
      "cell_type": "code",
      "source": [
        "# coverting to a boolean(3). \n",
        "# 0 will always give you a false\n",
        "# most of everything else will provide true\n",
        "print(bool(0))\n",
        "print(bool(1))\n",
        "print(bool(6))\n",
        "print(bool(0.1))\n",
        "print(bool(\"Newman\")) # string\n",
        "print(bool(\"False\")) # Even though the string is false, when coverting to a bool, it will come back as true\n",
        "\n",
        "#01/26 examples\n",
        "print(bool('money'))\n",
        "print(bool('pool'))"
      ],
      "metadata": {
        "id": "3jmWZEocWBs_"
      },
      "execution_count": null,
      "outputs": []
    },
    {
      "cell_type": "code",
      "source": [
        "# Converting to float\n",
        "print(float(\"1\"))\n",
        "print(float(5))\n",
        "print(float(False))\n",
        "print(float(True))\n",
        "\n",
        "#01/26 examples\n",
        "print(float(3))\n",
        "print(float(6))"
      ],
      "metadata": {
        "id": "zbMACSRFWa7Z"
      },
      "execution_count": null,
      "outputs": []
    },
    {
      "cell_type": "code",
      "source": [
        "# arithmetic Operators\n",
        "health = 50\n",
        "new_health = health + 20\n",
        "print(health)\n",
        "health = health + 20\n",
        "print(health)\n",
        "\n",
        "xPos = 5\n",
        "print(xPos % 2)\n",
        "print(xPos // 2)\n",
        "print(xPos ** 2)\n",
        "print(xPos)\n",
        "\n",
        "first_name = \"Tuan\"\n",
        "last_name = \"Vo\"\n",
        "print(first_name + \" \" + last_name) # string concatenation \n",
        "\n",
        "# 01/26 examples\n",
        "money = 100\n",
        "new_money = money + 12 # adding more money\n",
        "print(money) # this print will only show 100\n",
        "money = money + 12 # Need to add this condition to have it equal $112\n",
        "print(money) # this will put eveything together \n",
        "\n",
        "uPos = 9\n",
        "print(uPos % 1)\n",
        "print(uPos // 3)\n",
        "print(uPos ** 2)\n",
        "\n",
        "address_numbers = '1234'\n",
        "address_street_name = 'Abc Street'\n",
        "address_city = 'New York'\n",
        "address_state = 'NY'\n",
        "address_zip_code = '12345'\n",
        "print(address_numbers + \" \" + address_street_name)\n",
        "print(address_city + \", \" + address_state + \" \" + address_zip_code)"
      ],
      "metadata": {
        "id": "fEOAtSlZ65OU"
      },
      "execution_count": null,
      "outputs": []
    },
    {
      "cell_type": "code",
      "source": [
        "# Assignment Operators\n",
        "health = 50\n",
        "health += 20\n",
        "health -= 50\n",
        "print(health)\n",
        "\n",
        "name = \"Tuan\"\n",
        "name += \" Vo\"\n",
        "print(name)\n",
        "\n",
        "xPos = 10\n",
        "xPos %= 2\n",
        "#xPos *= 2\n",
        "#xPos /= 2\n",
        "#xPos //= 2\n",
        "#xPos **= 2\n",
        "print(xPos)"
      ],
      "metadata": {
        "id": "QizgNQmkAWVk"
      },
      "execution_count": null,
      "outputs": []
    },
    {
      "cell_type": "code",
      "source": [
        "# comparison operators should return a boolean\n",
        "# > >= < <= == !=\n",
        "result = 5 > 2\n",
        "print(result)\n",
        "print(type(result))\n",
        "print( 5 == 2)\n",
        "print( 5 != 2)\n"
      ],
      "metadata": {
        "id": "EIoCgw1SBwLz"
      },
      "execution_count": null,
      "outputs": []
    },
    {
      "cell_type": "code",
      "source": [
        "# comparison operators part 2\n",
        "a = \"a\"\n",
        "a_ = \"A\"\n",
        "first_name = 'Sonja'\n",
        "last_name = 'Silversten'\n",
        "print(True == False)\n",
        "print(first_name == last_name)\n",
        "print(a == a_)\n",
        "b = \"b\"\n",
        "print(a > b) # B is bigger than A "
      ],
      "metadata": {
        "id": "iEemv5cfD-Hl"
      },
      "execution_count": null,
      "outputs": []
    },
    {
      "cell_type": "code",
      "source": [
        "# logical operators\n",
        "# not, and, or\n",
        "is_game_over = False\n",
        "is_game_over = not is_game_over\n",
        "print(is_game_over)\n",
        "\n",
        "health = 0\n",
        "lives = 1\n",
        "print(health <= 0 and lives <= 0)\n",
        "\n",
        "health = 0 \n",
        "lives = 0\n",
        "print(health <= 0 or lives <= 0)\n",
        "\n",
        "#02/02\n",
        "seahawks_playoffs = False\n",
        "seahawks_playoffs = not seahawks_playoffs\n",
        "print(seahawks_playoffs)\n",
        "\n",
        "wins = 0\n",
        "loss = 1\n",
        "print(wins >= 0 and loss <= 0)\n",
        "\n",
        "superBowl = 1\n",
        "backToBack_superBowl = 0\n",
        "print(superBowl >= 1 or backToBack_superBowl <= 0)"
      ],
      "metadata": {
        "id": "ghjF2LU8B3yB"
      },
      "execution_count": null,
      "outputs": []
    },
    {
      "cell_type": "code",
      "source": [
        "# List types\n",
        "inventory = ['Sword', 'Bread', 'Boots', 'Shirts']\n",
        "sword = inventory[0] # Sword being at index 0\n",
        "print(sword)\n",
        "inventory[1] = 'Apples' # change bread at index 1 to apples\n",
        "print(inventory)\n",
        "\n",
        "#02/02\n",
        "# Make a list of all cats in household\n",
        "# Please find what index Finny is in and print his name\n",
        "name_of_cats = ['Newman', 'Luna', 'Finny', 'Earl']\n",
        "finny = name_of_cats[2]\n",
        "print(finny)\n",
        "# Halo is the new cat, please add him to the end of list using .append\n",
        "# print new list with Halo added\n",
        "name_of_cats.append('Halo') # .append is to add a name to the end of a list\n",
        "print(name_of_cats)"
      ],
      "metadata": {
        "id": "hqlV5piRXOb3"
      },
      "execution_count": null,
      "outputs": []
    },
    {
      "cell_type": "code",
      "source": [
        "inventory = ['Sword', 'Bread', 'Boots', 'Shirts']\n",
        "print(len(inventory))\n",
        "print(max(inventory)) # base on letter Character (Sw) would be max\n",
        "print(min(inventory)) # base on letter Character (A) would be min\n",
        "\n",
        "# Add another item to our list\n",
        "inventory.append('Hat') # .append will let us add to the end of our list\n",
        "print(inventory)\n",
        "\n",
        "inventory.insert(0, 'Knife') # This will add item base on index number\n",
        "print(inventory)\n",
        "\n",
        "# Remove item from list\n",
        "inventory.pop() # .pop will remove last item on list\n",
        "print(inventory)\n",
        "\n",
        "inventory.remove('Sword') # .remove a specific item from list\n",
        "print(inventory)\n",
        "\n",
        "inventory.clear() # to remove all items from list\n",
        "inventory = [] # this is another way. But using .clear is overall better to understand"
      ],
      "metadata": {
        "id": "aiH2pzoIkTi7"
      },
      "execution_count": null,
      "outputs": []
    },
    {
      "cell_type": "code",
      "source": [
        "# Multidimensional list. List within a list\n",
        "universe = [[1, 2, 3], # Row 0\n",
        "            [1, 2],  # Row 1\n",
        "            [1, 2, 3, 4, 5], # Row 2\n",
        "            [1, 2, 3, 4]] # Row 3\n",
        "ninth_world = universe[2][1] # Row 2, Index 1\n",
        "universe.append([1, 2, 3, 4, 5, 6]) # to add at end of list\n",
        "universe[1].pop() # to remove item at end of list\n",
        "print(universe)\n",
        "\n",
        "# 02/02\n",
        "# names of each student from 9th-12th grade\n",
        "name_ofEachStudent_perGrade = [['Tom', 'Tim', 'Annie'],\n",
        "                               ['Jim', 'Jon', 'Sophie', 'Malia'],\n",
        "                               ['Jaxsen', 'Garrett', 'Kaison', 'Rylon'],\n",
        "                               ['Austin', 'Caleb', 'Lawrence', 'Jason', 'Justin' ]]\n",
        "# Have a new student tranferring to 10th grade (Brett), please add him to list\n",
        "name_ofEachStudent_perGrade[1].append('Brett') # Make sure to understand how and why we needed to add index 1 after per grade\n",
        "# Caleb from 12th is moving, please remove him from list\n",
        "name_ofEachStudent_perGrade[3].pop(1) # remove base on row and index of row. Do not use names as this will throw an error\n",
        "print(name_ofEachStudent_perGrade)"
      ],
      "metadata": {
        "id": "av4bS2gzp8oT"
      },
      "execution_count": null,
      "outputs": []
    },
    {
      "cell_type": "code",
      "source": [
        "# Tuples are inmutable, cannot change. Holds a value\n",
        "item = (\"Health Kit\", 4)\n",
        "name = item[0] # index placment\n",
        "quantity = item[1] # index placment\n",
        "print(name)\n",
        "print(quantity)\n",
        "\n",
        "item = (\"knife\", 1) # Since we're not able to change value, this is a new value\n",
        "print(item)\n",
        "\n",
        "print(item.count('Knife'))\n",
        "print(item.index(1))\n",
        "\n",
        "# practice\n",
        "lunch_items = (\"Meat Loaf\", 6)\n",
        "print(lunch_items)\n",
        "\n",
        "name = lunch_items[0]\n",
        "quantity = lunch_items[1]\n",
        "print(name)\n",
        "print(quantity)"
      ],
      "metadata": {
        "id": "ShHxwzcXqVID"
      },
      "execution_count": null,
      "outputs": []
    },
    {
      "cell_type": "code",
      "source": [
        "# Dictionaries\n",
        "inventory = {\"Knife\": 1, \"Health Kit\": 3, \"Wood\": 5}\n",
        "# Exp inventory {\"Key\": Value, \"Key\": Value} \n",
        "\n",
        "# with dictionaries, how could you access the value?\n",
        "print(inventory[\"Knife\"]) # This should give me the value of 1\n",
        "\n",
        "# what if I wanted to change the value of an item?\n",
        "inventory[\"Knife\"] = 2 # this will change it from 1 to 2\n",
        "print(inventory) \n",
        "\n",
        "# what if we receive a new item. How would I add it to the list?\n",
        "inventory[\"Gold\"] = 50\n",
        "print(inventory) # this is add the item to the end of the list\n",
        "\n"
      ],
      "metadata": {
        "id": "knMHiGzxwIV6"
      },
      "execution_count": null,
      "outputs": []
    },
    {
      "cell_type": "code",
      "source": [
        "# Dictionaires 2\n",
        "inventory = {\"Knife\": 1, \"Health Kit\": 3, \"Wood\": 5}\n",
        "# what if I'm looking for an item that does not exist on my inventory list?\n",
        "# print(inventory['Gold']) would be one way. But this may cause a crash\n",
        "# if i had a very long list of 10k plus items, how would I know I'm missing gold?\n",
        "# Another way would be using the GET function, exp below\n",
        "print(inventory.get(\"Gold\"))\n",
        "\n",
        "# another way to get a list of keys and values \n",
        "print(inventory.keys())\n",
        "print(inventory.values())\n",
        "\n",
        "# How to remove a key item from your list\n",
        "inventory.pop(\"Knife\")\n",
        "print(inventory)\n",
        "\n",
        "# to clear our inventory list\n",
        "# use - inventory.clear()\n",
        "\n",
        "# I can also do the following\n",
        "print(len(inventory))\n",
        "print(min(inventory))\n",
        "print(max(inventory))"
      ],
      "metadata": {
        "id": "_0Fpp_107Tfg"
      },
      "execution_count": null,
      "outputs": []
    },
    {
      "cell_type": "code",
      "source": [
        "# Ranges, list of whole consecutive numbers\n",
        "# What if you wanted the first 10 numbers\n",
        "first_ten = range(10)\n",
        "print(first_ten[0])\n",
        "print(first_ten[9])\n",
        "# you will only get up to 9. Because we start at index 0. You would need to add another number to get the number 10. exp below\n",
        "\n",
        "first_ten = range(1,11)\n",
        "print(first_ten[0])\n",
        "print(first_ten[9])\n",
        "\n",
        "# how to skip numbers in a list. Exp every 2 numbers\n",
        "print(list(range(1,11,2)))\n",
        "\n",
        "# How to reverse the list\n",
        "reversed_ten = reversed(first_ten)\n",
        "# would also need to convert to list\n",
        "reversed_ten = list(reversed_ten)\n",
        "print(reversed_ten)\n",
        "\n",
        "# in and not in operatros will return a boolean answer\n",
        "print(5 in first_ten)\n",
        "\n",
        "print(5 not in first_ten)"
      ],
      "metadata": {
        "id": "QvH4yJHzCAC3"
      },
      "execution_count": null,
      "outputs": []
    },
    {
      "cell_type": "code",
      "source": [
        " # Conditionals (if, elif, else statements)\n",
        " # example: How to move right when coreect key is pressed?\n",
        " key_press = \"l\" # button player is pushing to get result. If incorrect button is pushed, nothing will happen\n",
        " if key_press == \"r\":\n",
        "   print(\"Move right\") # With Python, make sure it's indented \n",
        " elif key_press == \"l\":\n",
        "  print(\"Move left\")\n",
        " else:      # else statment will only execute if the other 2 fails \n",
        "   print(\"Invalid key\")\n",
        "\n",
        "   # Tenary operator requires us to have a possible value or a alternative value. Force elif or else statement \n",
        "command = \"Move right\" if key_press == \"r\" else \"Move left\"\n",
        "\n",
        "  # Practice codes \n",
        "drinking_age = 24\n",
        "if drinking_age >= 21:\n",
        "  print(\"Welcome In\")\n",
        "elif drinking_age <= 20:\n",
        "  print(\"Not old enough\")\n",
        "\n",
        "lunch_item = \"p\"\n",
        "if lunch_item == \"h\":\n",
        "  print(\"hamburger\")\n",
        "elif lunch_item == \"p\":\n",
        "  print('pizza')\n",
        "else:\n",
        "  print(\"Wrong selection, please choose again\")\n",
        "# things I missed, == and \"\" for strings\n"
      ],
      "metadata": {
        "id": "J98qwEiWDgG-"
      },
      "execution_count": null,
      "outputs": []
    },
    {
      "cell_type": "code",
      "source": [
        "# conditionals 2 - If statement variants \n",
        "num_lives = 3\n",
        "num_health_kits = 3\n",
        "health = 44\n",
        "if health <= 0 and num_health_kits <= 0:\n",
        "  num_lives -= 1 # nested if statments\n",
        "  print('You lose a life!')\n",
        "  if num_lives <= 0:\n",
        "    print('Game over!')\n",
        "elif health < 9:\n",
        "  print('Warning, health less than 10%! Find health recharge pack')\n",
        "elif health < 49:\n",
        "  print('Warning, health less than 50%!')\n",
        "# Make sure to have smaller number on top if you're doing less than. If not, code will not correctly \n",
        "\n",
        "# Practice code\n",
        "# Banking account information\n",
        "spending_balance = 10\n",
        "checking_balance = 4500\n",
        "savings_balance = 15000\n",
        "if spending_balance <= 0 or checking_balance <= 1000:\n",
        "  print('Transfer money from savings account!')\n",
        "  if spending_balance == 0:\n",
        "    print('You have a zero balance in your spending account!')\n",
        "elif spending_balance >= 1 and spending_balance <= 99:\n",
        "  print('You less than $100 in your account')\n",
        "elif spending_balance <= 500 and spending_balance >= 100:\n",
        "  print('You have spent more than 50% of your monthly spending limit')\n",
        "# had to use the OR operator for line 21 for code to display message.\n"
      ],
      "metadata": {
        "id": "z1ikjo32S5Aj"
      },
      "execution_count": null,
      "outputs": []
    },
    {
      "cell_type": "code",
      "source": [
        " # While Loops (What we will cover in this exercise)\n",
        " # create, run and break out of a while loop\n",
        "start_position = 0\n",
        "end_position = 5\n",
        "while start_position < end_position: # While loop needs to have a condition\n",
        "  start_position += 1\n",
        "  print(start_position)\n",
        "print(\"You've reached the end of your list!\")\n",
        "\n",
        "# example # 2. Code with more than one action\n",
        "start_position = 0\n",
        "end_position = 5\n",
        "enemy_position = 2 # added code\n",
        "while start_position < end_position: # While loop needs to have a condition\n",
        "  start_position += 1\n",
        "  print(start_position)\n",
        "  if start_position == enemy_position: # added code\n",
        "    print(\"You collided with the enemy\") # added code\n",
        "    break # to break out of loop\n",
        "print(\"Game over\")\n",
        "\n",
        "# Exp 3: What if there was a way to jump over the enemy?\n",
        "start_position = 0\n",
        "jump_position = 1 # added code\n",
        "end_position = 5\n",
        "enemy_position = 2\n",
        "while start_position < end_position: # While loop needs to have a condition\n",
        "  start_position += 1\n",
        "  print(start_position)\n",
        "  if jump_position > 0: # added code\n",
        "    continue  # added code\n",
        "  if start_position == enemy_position:\n",
        "    print(\"You collided with the enemy\")\n",
        "    break # to break out of loop\n",
        "print(\"You've reached the end of your list!\")"
      ],
      "metadata": {
        "id": "7DhUvTxssYe4"
      },
      "execution_count": null,
      "outputs": []
    },
    {
      "cell_type": "code",
      "source": [
        " # my practice code for while loops\n",
        " # Basketball, shooting a free throw. Make 5 stright in a row before moving to 3 point line. If any free throw is missed, you will start at zero\n",
        "\n",
        "# start of code\n",
        "free_throws_made = 0\n",
        "three_pointers_made = 5\n",
        "while free_throws_made < three_pointers_made:\n",
        "  free_throws_made += 1 # This is to add one until you reach 5\n",
        "  print(free_throws_made)\n",
        "print(\"Please move to 3 point line!\") # Once you reached 5, this note will let user know what to do next\n",
        "\n",
        "# Now I will be adding a missed free throw action. Which will require player to start over.\n",
        "free_throws_made = 0\n",
        "missed_free_throws = 2\n",
        "three_pointers_made = 5\n",
        "while free_throws_made < three_pointers_made:\n",
        "  free_throws_made += 1 # This is to add one until you reach 5\n",
        "  print(free_throws_made)\n",
        "  if free_throws_made == missed_free_throws: # what would happen when you miss a free throw\n",
        "    print(\"Missed free throw, please start from beginning\")\n",
        "    break # to stop loop\n",
        "print(\"Must make 5 in a row before moving on\")\n"
      ],
      "metadata": {
        "id": "z-bPMyVpXEGR"
      },
      "execution_count": null,
      "outputs": []
    },
    {
      "cell_type": "code",
      "source": [
        "# For loop examples in python is called (For in loop) (19)\n",
        "# create, run and must work with ranges and lists\n",
        "\n",
        "for numbers in range(1,6): # this will print numbers 1-5, not 6. \n",
        "  print(numbers)\n",
        "\n",
        "# now make a list, exp: inventory\n",
        "inventory = ['Tent', 'Sleeping bag', 'Wood', 'Food', 'Bug spray']\n",
        "for item in inventory:\n",
        "  print(item)\n",
        "\n",
        "# using an if statement with a break\n",
        "for item in range(4):\n",
        "  print(inventory[item])\n",
        "  if item == 1:\n",
        "    break\n",
        "\n",
        "# converting from a for loop to a while loop\n",
        "item = 0\n",
        "while item < len(inventory):\n",
        "  print(inventory[item])\n",
        "  item += 1"
      ],
      "metadata": {
        "id": "baJTzQR3fw9d"
      },
      "execution_count": null,
      "outputs": []
    },
    {
      "cell_type": "code",
      "source": [
        "# Functions (20)\n",
        "# Some examples of implementing and calling functions. Also variable scope\n",
        "\n",
        "x_pos = 0 # Vaiable outside of function.\n",
        "\n",
        "def move():\n",
        "  global x_pos # Needed to use global since variable on line for is out of the function. Wouldn't need to use global if variable was inside of funtion.\n",
        "  x_pos += 1 # If there is a variable inside the function, it's consider to be local since it resides in function\n",
        "\n",
        "move() # this will give me 1. If I wanted to move more, I would just add more move() to the function and so on\n",
        "print(x_pos)\n"
      ],
      "metadata": {
        "id": "3QUk3ELQOPEx"
      },
      "execution_count": null,
      "outputs": []
    },
    {
      "cell_type": "code",
      "source": [
        "# Functions (20-2) \n",
        "# Example of Parameters and Return Values\n",
        "# Adding parameters and return statments. Also passing in paramenters and return values when calling functions\n",
        "\n",
        "x_pos = 0\n",
        "\n",
        "def move(by_amount): # function with parameters. \n",
        "  global x_pos\n",
        "  x_pos += by_amount\n",
        "\n",
        "move(4) # You can put any interger in (parameters), it will move that amount\n",
        "print(x_pos)\n",
        "\n",
        "x_pos = 0\n",
        "\n",
        "def move(by_amount=1): # parameters with a default value. This is just in case you dont have a value for move()\n",
        "  global x_pos\n",
        "  x_pos += by_amount\n",
        "\n",
        "move() # You can put any interger in (parameters), it will move that amount\n",
        "print(x_pos)"
      ],
      "metadata": {
        "id": "6aXxd2cAUpJM"
      },
      "execution_count": null,
      "outputs": []
    },
    {
      "cell_type": "code",
      "source": [
        "# Function (20-3)\n",
        "start_position = 0\n",
        "end_position = 10\n",
        "x_pos = 0\n",
        "\n",
        "def move(x_pos, by_amount=1):\n",
        "  x_pos += by_amount\n",
        "  return x_pos # this return will exit out of the function regardless if there are codes under this line or not.\n",
        "\n",
        "final_x_pos = move(x_pos, 5)\n",
        "print(final_x_pos)\n",
        "\n",
        "# example 2\n",
        "start_position = 0\n",
        "end_position = 10\n",
        "x_pos = 0\n",
        "\n",
        "def move(x_pos, by_amount=1):\n",
        "  global start_position, end_position\n",
        "  x_pos += by_amount\n",
        "  if x_pos < start_position:\n",
        "    return start_position\n",
        "  elif x_pos > end_position:\n",
        "    return end_position  \n",
        "  # reason for not using an (else) CONDITION is because if any of the above code is true, it will break out. If not, code will continue until last return line 26\n",
        "  return x_pos # this return will exit out of the function regardless if there are codes under this line or not.\n",
        "\n",
        "final_x_pos = move(x_pos, 10) # change the interger value to make changes\n",
        "print(final_x_pos)"
      ],
      "metadata": {
        "id": "LCwR5a3-5kpx"
      },
      "execution_count": null,
      "outputs": []
    },
    {
      "cell_type": "code",
      "source": [
        "# Class examples\n",
        "# create a custom class to represent and object, add some fields, an inittializdr and methods\n",
        "\n",
        "class GameCharacter:\n",
        "  # x_pos\n",
        "  # health\n",
        "  # name\n",
        "\n",
        "  speed = 1.0\n",
        " \n",
        " # Def is a contructor/function and dbl underscore init dbl underscore is the initializer \n",
        " # (self) belongs to a init for game character\n",
        "  # setting up player with the following\n",
        "  def __init__(self, name, x_pos, health):\n",
        "    self.name = name\n",
        "    self.x_pos = x_pos\n",
        "    self.health = health\n",
        " \n",
        "  # movement within the game\n",
        "  def move(self, by_amount):\n",
        "    self.x_pos += by_amount\n",
        " \n",
        "  # to see what kind of damage was done to character\n",
        "  def take_damage(self, amount):\n",
        "    self.health -= amount\n",
        "    if self.health <= 0: \n",
        "       self.health = 0\n",
        "\n",
        "  # to check if player is dead or not\n",
        "  def check_is_dead(self):\n",
        "    return self.health <= 0 \n",
        "\n",
        "  # Need to add function for speed using the static method. Static method is used to change static variable\n",
        "  def change_speed(to_speed):\n",
        "    GameCharacter.speed = to_speed"
      ],
      "metadata": {
        "id": "TtVTwBCAnhUq"
      },
      "execution_count": 7,
      "outputs": []
    },
    {
      "cell_type": "code",
      "source": [
        "# Objects examples, create an instance of class\n",
        "# Object from our class, access objectd and execute the object\n",
        "\n",
        "# We will use the information from above \n",
        "# value of the character\n",
        "game_character = GameCharacter('Tuan', 6, 100)\n",
        "other_character = GameCharacter('Kaison', 2, 85)\n",
        "# print(type(game_character))\n",
        "\n",
        "# need to get more information about Character. What are we trying to find? exp name, position of player or health of player.\n",
        "print(game_character.name)\n",
        "print(other_character.name)\n",
        "\n",
        "# Now move each character 3 times. Use .move to change players location\n",
        "game_character.move(3)\n",
        "other_character.move(3)\n",
        "print(game_character.x_pos) # Don't forget to add x_pos\n",
        "print(other_character.x_pos)\n",
        "\n",
        "# each player is going to take some damage (-20)\n",
        "game_character.take_damage(20) # .take_damage is from above code\n",
        "other_character.take_damage(85)\n",
        "print(game_character.health) # .health is from above as well. You can also see this when you hover your mouse over game character\n",
        "print(other_character.health)\n",
        "\n",
        "# check if any or all players are dead\n",
        "print(game_character.check_is_dead()) # because this is a method, make sure to use (())\n",
        "print(other_character.check_is_dead())"
      ],
      "metadata": {
        "id": "BJxo-vRI-64K"
      },
      "execution_count": null,
      "outputs": []
    },
    {
      "cell_type": "code",
      "source": [
        "# inheritance examples. \n",
        "# Create a subclass, compare to superclass and go over the difference in uasge between the two\n",
        "\n",
        "# Create a class with a superclass for Player Character\n",
        "class PlayerCharacter(GameCharacter): # supeclass are in parentensis. Subclass (PlayerCharacter) now has all the info from superclass\n",
        "\n",
        "  def __init__(self, name, x_pos, health, num_lives):\n",
        "    super().__init__(name, x_pos, health) # superclass initializer (__init__). Use this when you are using a code from a subclass. line 12-15 in class examples\n",
        "    self.max_health = health\n",
        "    self.num_lives = num_lives\n",
        "  \n",
        "  # to see what kind of damage was done to character\n",
        "  def take_damage(self, amount):\n",
        "    self.health -= amount\n",
        "    if self.health <= 0: \n",
        "      self.num_lives -= 1 # when health reaches 0, it will take 1 life and replensih health to max.\n",
        "      self.health = self.max_health # Replenish health to max\n",
        "\n",
        "   # to check if player is dead or not\n",
        "  def check_is_dead(self):\n",
        "    return self.health <= 0 and self.num_lives <= 0 # when this code is true, player will be dead and out of game\n",
        "  "
      ],
      "metadata": {
        "id": "4dIzgejVGfME"
      },
      "execution_count": 8,
      "outputs": []
    },
    {
      "cell_type": "code",
      "source": [
        "# create a sublass to help superclass run\n",
        "# Sublass has everything a superclass has to offer but not the other way around\n",
        "\n",
        "pc = PlayerCharacter('Tuan', 0, 100, 4)\n",
        "gc = GameCharacter('Tiger', 0, 100)\n",
        "\n",
        "print(pc.max_health)\n",
        "# print(gc.max_health) this codewill not work for GC. read line 2 for explanation\n",
        "\n",
        "# move both characters by any amount\n",
        "pc.move(2)\n",
        "print(pc.x_pos)\n",
        "gc.move(2)\n",
        "print(gc.x_pos)\n",
        "\n",
        "# both characters take health damage\n",
        "pc.take_damage(150) # with this being more than 100, we should lose a life but health will replenish to 100\n",
        "gc.take_damage(150)\n",
        "print(pc.health)\n",
        "print(gc.health)\n",
        "\n",
        "# check characters is dead using the method call\n",
        "print(pc.check_is_dead()) # Method call uses prentensis\n",
        "print(gc.check_is_dead())"
      ],
      "metadata": {
        "id": "5lby6lEUcVKg"
      },
      "execution_count": null,
      "outputs": []
    },
    {
      "cell_type": "code",
      "source": [
        "# Static Members. Create and use some static members\n",
        "# Static variables, static functions and how to access and use the static members\n",
        "\n",
        "gc_1 = GameCharacter('Lion', 0, 100)\n",
        "gc_2 = GameCharacter('Fox', 2, 100)\n",
        "\n",
        "# Get speed for each character\n",
        "print(gc_1.speed)\n",
        "print(gc_2.speed)\n",
        "\n",
        "# you can also do the following to get speed of game character\n",
        "print(GameCharacter.speed) # this will give me the speed of all game character\n",
        "\n",
        "# how to change the speed of game characters. Python is flexible and will let you change speed doing the following: Line 17\n",
        "# GameCharacter.speed = 2.0\n",
        "GameCharacter.change_speed(3.0) # Adding change is a better way of changing the speed of character \n",
        "print(gc_1.speed)\n",
        "# gc_2.speed = 10\n",
        "print(gc_2.speed)"
      ],
      "metadata": {
        "id": "6lkwe3FfhwPw"
      },
      "execution_count": null,
      "outputs": []
    }
  ]
}